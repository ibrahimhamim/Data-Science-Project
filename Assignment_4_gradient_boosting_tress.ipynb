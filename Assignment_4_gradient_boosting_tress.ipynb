{
 "cells": [
  {
   "cell_type": "code",
   "execution_count": 83,
   "id": "997136e6",
   "metadata": {},
   "outputs": [
    {
     "data": {
      "text/html": [
       "<div>\n",
       "<style scoped>\n",
       "    .dataframe tbody tr th:only-of-type {\n",
       "        vertical-align: middle;\n",
       "    }\n",
       "\n",
       "    .dataframe tbody tr th {\n",
       "        vertical-align: top;\n",
       "    }\n",
       "\n",
       "    .dataframe thead th {\n",
       "        text-align: right;\n",
       "    }\n",
       "</style>\n",
       "<table border=\"1\" class=\"dataframe\">\n",
       "  <thead>\n",
       "    <tr style=\"text-align: right;\">\n",
       "      <th></th>\n",
       "      <th>Unnamed: 0</th>\n",
       "      <th>date</th>\n",
       "      <th>cityname</th>\n",
       "      <th>citycode</th>\n",
       "      <th>SO2</th>\n",
       "      <th>NO2</th>\n",
       "      <th>PM10</th>\n",
       "      <th>CO</th>\n",
       "      <th>O3_8</th>\n",
       "      <th>PM25</th>\n",
       "      <th>...</th>\n",
       "      <th>airPressure</th>\n",
       "      <th>sunHours</th>\n",
       "      <th>highTemperature</th>\n",
       "      <th>lowHumidity</th>\n",
       "      <th>year</th>\n",
       "      <th>month</th>\n",
       "      <th>season</th>\n",
       "      <th>longitude</th>\n",
       "      <th>latitude</th>\n",
       "      <th>day</th>\n",
       "    </tr>\n",
       "  </thead>\n",
       "  <tbody>\n",
       "    <tr>\n",
       "      <th>0</th>\n",
       "      <td>0</td>\n",
       "      <td>4/1/2017</td>\n",
       "      <td>city1</td>\n",
       "      <td>110000</td>\n",
       "      <td>7</td>\n",
       "      <td>52</td>\n",
       "      <td>78</td>\n",
       "      <td>0.6</td>\n",
       "      <td>86</td>\n",
       "      <td>31</td>\n",
       "      <td>...</td>\n",
       "      <td>1012.80</td>\n",
       "      <td>11.4</td>\n",
       "      <td>22.2</td>\n",
       "      <td>13</td>\n",
       "      <td>2017</td>\n",
       "      <td>4</td>\n",
       "      <td>2</td>\n",
       "      <td>116.407526</td>\n",
       "      <td>39.904030</td>\n",
       "      <td>1</td>\n",
       "    </tr>\n",
       "    <tr>\n",
       "      <th>1</th>\n",
       "      <td>1</td>\n",
       "      <td>4/2/2017</td>\n",
       "      <td>city1</td>\n",
       "      <td>110000</td>\n",
       "      <td>14</td>\n",
       "      <td>72</td>\n",
       "      <td>112</td>\n",
       "      <td>1.1</td>\n",
       "      <td>96</td>\n",
       "      <td>68</td>\n",
       "      <td>...</td>\n",
       "      <td>1014.15</td>\n",
       "      <td>10.4</td>\n",
       "      <td>23.1</td>\n",
       "      <td>14</td>\n",
       "      <td>2017</td>\n",
       "      <td>4</td>\n",
       "      <td>2</td>\n",
       "      <td>116.407526</td>\n",
       "      <td>39.904030</td>\n",
       "      <td>2</td>\n",
       "    </tr>\n",
       "    <tr>\n",
       "      <th>2</th>\n",
       "      <td>2</td>\n",
       "      <td>4/3/2017</td>\n",
       "      <td>city1</td>\n",
       "      <td>110000</td>\n",
       "      <td>21</td>\n",
       "      <td>78</td>\n",
       "      <td>170</td>\n",
       "      <td>1.2</td>\n",
       "      <td>158</td>\n",
       "      <td>125</td>\n",
       "      <td>...</td>\n",
       "      <td>1013.38</td>\n",
       "      <td>10.2</td>\n",
       "      <td>25.5</td>\n",
       "      <td>19</td>\n",
       "      <td>2017</td>\n",
       "      <td>4</td>\n",
       "      <td>2</td>\n",
       "      <td>116.407526</td>\n",
       "      <td>39.904030</td>\n",
       "      <td>3</td>\n",
       "    </tr>\n",
       "    <tr>\n",
       "      <th>3</th>\n",
       "      <td>3</td>\n",
       "      <td>4/4/2017</td>\n",
       "      <td>city1</td>\n",
       "      <td>110000</td>\n",
       "      <td>20</td>\n",
       "      <td>62</td>\n",
       "      <td>147</td>\n",
       "      <td>1.1</td>\n",
       "      <td>100</td>\n",
       "      <td>130</td>\n",
       "      <td>...</td>\n",
       "      <td>1011.10</td>\n",
       "      <td>0.0</td>\n",
       "      <td>20.2</td>\n",
       "      <td>32</td>\n",
       "      <td>2017</td>\n",
       "      <td>4</td>\n",
       "      <td>2</td>\n",
       "      <td>116.407526</td>\n",
       "      <td>39.904030</td>\n",
       "      <td>4</td>\n",
       "    </tr>\n",
       "    <tr>\n",
       "      <th>4</th>\n",
       "      <td>4</td>\n",
       "      <td>4/5/2017</td>\n",
       "      <td>city1</td>\n",
       "      <td>110000</td>\n",
       "      <td>5</td>\n",
       "      <td>30</td>\n",
       "      <td>57</td>\n",
       "      <td>0.6</td>\n",
       "      <td>132</td>\n",
       "      <td>61</td>\n",
       "      <td>...</td>\n",
       "      <td>1008.88</td>\n",
       "      <td>5.6</td>\n",
       "      <td>20.0</td>\n",
       "      <td>45</td>\n",
       "      <td>2017</td>\n",
       "      <td>4</td>\n",
       "      <td>2</td>\n",
       "      <td>116.407526</td>\n",
       "      <td>39.904030</td>\n",
       "      <td>5</td>\n",
       "    </tr>\n",
       "    <tr>\n",
       "      <th>...</th>\n",
       "      <td>...</td>\n",
       "      <td>...</td>\n",
       "      <td>...</td>\n",
       "      <td>...</td>\n",
       "      <td>...</td>\n",
       "      <td>...</td>\n",
       "      <td>...</td>\n",
       "      <td>...</td>\n",
       "      <td>...</td>\n",
       "      <td>...</td>\n",
       "      <td>...</td>\n",
       "      <td>...</td>\n",
       "      <td>...</td>\n",
       "      <td>...</td>\n",
       "      <td>...</td>\n",
       "      <td>...</td>\n",
       "      <td>...</td>\n",
       "      <td>...</td>\n",
       "      <td>...</td>\n",
       "      <td>...</td>\n",
       "      <td>...</td>\n",
       "    </tr>\n",
       "    <tr>\n",
       "      <th>71143</th>\n",
       "      <td>71143</td>\n",
       "      <td>7/27/2020</td>\n",
       "      <td>city108</td>\n",
       "      <td>611000</td>\n",
       "      <td>9</td>\n",
       "      <td>12</td>\n",
       "      <td>42</td>\n",
       "      <td>0.4</td>\n",
       "      <td>105</td>\n",
       "      <td>14</td>\n",
       "      <td>...</td>\n",
       "      <td>920.80</td>\n",
       "      <td>11.5</td>\n",
       "      <td>35.2</td>\n",
       "      <td>33</td>\n",
       "      <td>2020</td>\n",
       "      <td>7</td>\n",
       "      <td>3</td>\n",
       "      <td>109.940477</td>\n",
       "      <td>33.870422</td>\n",
       "      <td>27</td>\n",
       "    </tr>\n",
       "    <tr>\n",
       "      <th>71144</th>\n",
       "      <td>71144</td>\n",
       "      <td>7/28/2020</td>\n",
       "      <td>city108</td>\n",
       "      <td>611000</td>\n",
       "      <td>11</td>\n",
       "      <td>16</td>\n",
       "      <td>40</td>\n",
       "      <td>0.6</td>\n",
       "      <td>82</td>\n",
       "      <td>18</td>\n",
       "      <td>...</td>\n",
       "      <td>923.40</td>\n",
       "      <td>10.0</td>\n",
       "      <td>30.5</td>\n",
       "      <td>48</td>\n",
       "      <td>2020</td>\n",
       "      <td>7</td>\n",
       "      <td>3</td>\n",
       "      <td>109.940477</td>\n",
       "      <td>33.870422</td>\n",
       "      <td>28</td>\n",
       "    </tr>\n",
       "    <tr>\n",
       "      <th>71145</th>\n",
       "      <td>71145</td>\n",
       "      <td>7/29/2020</td>\n",
       "      <td>city108</td>\n",
       "      <td>611000</td>\n",
       "      <td>12</td>\n",
       "      <td>16</td>\n",
       "      <td>39</td>\n",
       "      <td>0.6</td>\n",
       "      <td>99</td>\n",
       "      <td>22</td>\n",
       "      <td>...</td>\n",
       "      <td>924.90</td>\n",
       "      <td>11.6</td>\n",
       "      <td>31.3</td>\n",
       "      <td>51</td>\n",
       "      <td>2020</td>\n",
       "      <td>7</td>\n",
       "      <td>3</td>\n",
       "      <td>109.940477</td>\n",
       "      <td>33.870422</td>\n",
       "      <td>29</td>\n",
       "    </tr>\n",
       "    <tr>\n",
       "      <th>71146</th>\n",
       "      <td>71146</td>\n",
       "      <td>7/30/2020</td>\n",
       "      <td>city108</td>\n",
       "      <td>611000</td>\n",
       "      <td>12</td>\n",
       "      <td>16</td>\n",
       "      <td>40</td>\n",
       "      <td>0.6</td>\n",
       "      <td>100</td>\n",
       "      <td>22</td>\n",
       "      <td>...</td>\n",
       "      <td>926.10</td>\n",
       "      <td>10.2</td>\n",
       "      <td>30.0</td>\n",
       "      <td>47</td>\n",
       "      <td>2020</td>\n",
       "      <td>7</td>\n",
       "      <td>3</td>\n",
       "      <td>109.940477</td>\n",
       "      <td>33.870422</td>\n",
       "      <td>30</td>\n",
       "    </tr>\n",
       "    <tr>\n",
       "      <th>71147</th>\n",
       "      <td>71147</td>\n",
       "      <td>7/31/2020</td>\n",
       "      <td>city108</td>\n",
       "      <td>611000</td>\n",
       "      <td>6</td>\n",
       "      <td>14</td>\n",
       "      <td>33</td>\n",
       "      <td>0.5</td>\n",
       "      <td>90</td>\n",
       "      <td>17</td>\n",
       "      <td>...</td>\n",
       "      <td>924.50</td>\n",
       "      <td>9.8</td>\n",
       "      <td>30.5</td>\n",
       "      <td>61</td>\n",
       "      <td>2020</td>\n",
       "      <td>7</td>\n",
       "      <td>3</td>\n",
       "      <td>109.940477</td>\n",
       "      <td>33.870422</td>\n",
       "      <td>31</td>\n",
       "    </tr>\n",
       "  </tbody>\n",
       "</table>\n",
       "<p>71148 rows × 21 columns</p>\n",
       "</div>"
      ],
      "text/plain": [
       "       Unnamed: 0       date cityname  citycode  SO2  NO2  PM10   CO  O3_8  \\\n",
       "0               0   4/1/2017    city1    110000    7   52    78  0.6    86   \n",
       "1               1   4/2/2017    city1    110000   14   72   112  1.1    96   \n",
       "2               2   4/3/2017    city1    110000   21   78   170  1.2   158   \n",
       "3               3   4/4/2017    city1    110000   20   62   147  1.1   100   \n",
       "4               4   4/5/2017    city1    110000    5   30    57  0.6   132   \n",
       "...           ...        ...      ...       ...  ...  ...   ...  ...   ...   \n",
       "71143       71143  7/27/2020  city108    611000    9   12    42  0.4   105   \n",
       "71144       71144  7/28/2020  city108    611000   11   16    40  0.6    82   \n",
       "71145       71145  7/29/2020  city108    611000   12   16    39  0.6    99   \n",
       "71146       71146  7/30/2020  city108    611000   12   16    40  0.6   100   \n",
       "71147       71147  7/31/2020  city108    611000    6   14    33  0.5    90   \n",
       "\n",
       "       PM25  ...  airPressure  sunHours  highTemperature  lowHumidity  year  \\\n",
       "0        31  ...      1012.80      11.4             22.2           13  2017   \n",
       "1        68  ...      1014.15      10.4             23.1           14  2017   \n",
       "2       125  ...      1013.38      10.2             25.5           19  2017   \n",
       "3       130  ...      1011.10       0.0             20.2           32  2017   \n",
       "4        61  ...      1008.88       5.6             20.0           45  2017   \n",
       "...     ...  ...          ...       ...              ...          ...   ...   \n",
       "71143    14  ...       920.80      11.5             35.2           33  2020   \n",
       "71144    18  ...       923.40      10.0             30.5           48  2020   \n",
       "71145    22  ...       924.90      11.6             31.3           51  2020   \n",
       "71146    22  ...       926.10      10.2             30.0           47  2020   \n",
       "71147    17  ...       924.50       9.8             30.5           61  2020   \n",
       "\n",
       "       month  season   longitude   latitude  day  \n",
       "0          4       2  116.407526  39.904030    1  \n",
       "1          4       2  116.407526  39.904030    2  \n",
       "2          4       2  116.407526  39.904030    3  \n",
       "3          4       2  116.407526  39.904030    4  \n",
       "4          4       2  116.407526  39.904030    5  \n",
       "...      ...     ...         ...        ...  ...  \n",
       "71143      7       3  109.940477  33.870422   27  \n",
       "71144      7       3  109.940477  33.870422   28  \n",
       "71145      7       3  109.940477  33.870422   29  \n",
       "71146      7       3  109.940477  33.870422   30  \n",
       "71147      7       3  109.940477  33.870422   31  \n",
       "\n",
       "[71148 rows x 21 columns]"
      ]
     },
     "execution_count": 83,
     "metadata": {},
     "output_type": "execute_result"
    }
   ],
   "source": [
    "import numpy as np\n",
    "import pandas as pd\n",
    "from sklearn import datasets\n",
    "#from sklearn.linear_model import Lasso\n",
    "from sklearn import linear_model\n",
    "from sklearn.model_selection import train_test_split\n",
    "from sklearn.neural_network import MLPRegressor\n",
    "\n",
    "#users = pd.read_csv('u(1).user.csv', header = None)\n",
    "#movies =pd.read_csv(\"u.item.csv\", header = None, encoding = 'latin-1')\n",
    "#ratings = pd.read_csv(\"u(1).data.csv\",sep=',' , header =None, names = ['userid', 'movieid', 'rating', 'time'])\n",
    "\n",
    "air_pollution=pd.read_csv('airQualityData.csv')\n",
    "air_pollution"
   ]
  },
  {
   "cell_type": "code",
   "execution_count": 84,
   "id": "2c2a5fc1",
   "metadata": {},
   "outputs": [],
   "source": [
    "air_pollution[\"SO2\"]=air_pollution[\"SO2\"].fillna(air_pollution[\"SO2\"].mean())\n",
    "air_pollution[\"PM10\"]=air_pollution[\"PM10\"].fillna(air_pollution[\"PM10\"].mode())\n",
    "air_pollution[\"CO\"]=air_pollution[\"CO\"].fillna(air_pollution[\"CO\"].mode())\n",
    "air_pollution[\"O3_8\"]=air_pollution[\"O3_8\"].fillna(air_pollution[\"O3_8\"].mode())"
   ]
  },
  {
   "cell_type": "code",
   "execution_count": 85,
   "id": "2e95204e",
   "metadata": {},
   "outputs": [],
   "source": [
    "air_pollution_new1=air_pollution.drop(['PM25','station','airPressure','sunHours','highTemperature','lowHumidity','year','month','season','longitude','day','latitude','date','latitude','NO2','cityname'], axis=1)\n",
    "\n"
   ]
  },
  {
   "cell_type": "code",
   "execution_count": 86,
   "id": "20f1d6a6",
   "metadata": {},
   "outputs": [],
   "source": [
    "air_pollution_new1=air_pollution_new1.drop(air_pollution_new1.columns[[0]],axis=1)"
   ]
  },
  {
   "cell_type": "code",
   "execution_count": 87,
   "id": "36ede65b",
   "metadata": {},
   "outputs": [
    {
     "data": {
      "text/html": [
       "<div>\n",
       "<style scoped>\n",
       "    .dataframe tbody tr th:only-of-type {\n",
       "        vertical-align: middle;\n",
       "    }\n",
       "\n",
       "    .dataframe tbody tr th {\n",
       "        vertical-align: top;\n",
       "    }\n",
       "\n",
       "    .dataframe thead th {\n",
       "        text-align: right;\n",
       "    }\n",
       "</style>\n",
       "<table border=\"1\" class=\"dataframe\">\n",
       "  <thead>\n",
       "    <tr style=\"text-align: right;\">\n",
       "      <th></th>\n",
       "      <th>citycode</th>\n",
       "      <th>SO2</th>\n",
       "      <th>PM10</th>\n",
       "      <th>CO</th>\n",
       "      <th>O3_8</th>\n",
       "    </tr>\n",
       "  </thead>\n",
       "  <tbody>\n",
       "    <tr>\n",
       "      <th>0</th>\n",
       "      <td>110000</td>\n",
       "      <td>7</td>\n",
       "      <td>78</td>\n",
       "      <td>0.6</td>\n",
       "      <td>86</td>\n",
       "    </tr>\n",
       "    <tr>\n",
       "      <th>1</th>\n",
       "      <td>110000</td>\n",
       "      <td>14</td>\n",
       "      <td>112</td>\n",
       "      <td>1.1</td>\n",
       "      <td>96</td>\n",
       "    </tr>\n",
       "    <tr>\n",
       "      <th>2</th>\n",
       "      <td>110000</td>\n",
       "      <td>21</td>\n",
       "      <td>170</td>\n",
       "      <td>1.2</td>\n",
       "      <td>158</td>\n",
       "    </tr>\n",
       "    <tr>\n",
       "      <th>3</th>\n",
       "      <td>110000</td>\n",
       "      <td>20</td>\n",
       "      <td>147</td>\n",
       "      <td>1.1</td>\n",
       "      <td>100</td>\n",
       "    </tr>\n",
       "    <tr>\n",
       "      <th>4</th>\n",
       "      <td>110000</td>\n",
       "      <td>5</td>\n",
       "      <td>57</td>\n",
       "      <td>0.6</td>\n",
       "      <td>132</td>\n",
       "    </tr>\n",
       "    <tr>\n",
       "      <th>...</th>\n",
       "      <td>...</td>\n",
       "      <td>...</td>\n",
       "      <td>...</td>\n",
       "      <td>...</td>\n",
       "      <td>...</td>\n",
       "    </tr>\n",
       "    <tr>\n",
       "      <th>71143</th>\n",
       "      <td>611000</td>\n",
       "      <td>9</td>\n",
       "      <td>42</td>\n",
       "      <td>0.4</td>\n",
       "      <td>105</td>\n",
       "    </tr>\n",
       "    <tr>\n",
       "      <th>71144</th>\n",
       "      <td>611000</td>\n",
       "      <td>11</td>\n",
       "      <td>40</td>\n",
       "      <td>0.6</td>\n",
       "      <td>82</td>\n",
       "    </tr>\n",
       "    <tr>\n",
       "      <th>71145</th>\n",
       "      <td>611000</td>\n",
       "      <td>12</td>\n",
       "      <td>39</td>\n",
       "      <td>0.6</td>\n",
       "      <td>99</td>\n",
       "    </tr>\n",
       "    <tr>\n",
       "      <th>71146</th>\n",
       "      <td>611000</td>\n",
       "      <td>12</td>\n",
       "      <td>40</td>\n",
       "      <td>0.6</td>\n",
       "      <td>100</td>\n",
       "    </tr>\n",
       "    <tr>\n",
       "      <th>71147</th>\n",
       "      <td>611000</td>\n",
       "      <td>6</td>\n",
       "      <td>33</td>\n",
       "      <td>0.5</td>\n",
       "      <td>90</td>\n",
       "    </tr>\n",
       "  </tbody>\n",
       "</table>\n",
       "<p>71148 rows × 5 columns</p>\n",
       "</div>"
      ],
      "text/plain": [
       "       citycode  SO2  PM10   CO  O3_8\n",
       "0        110000    7    78  0.6    86\n",
       "1        110000   14   112  1.1    96\n",
       "2        110000   21   170  1.2   158\n",
       "3        110000   20   147  1.1   100\n",
       "4        110000    5    57  0.6   132\n",
       "...         ...  ...   ...  ...   ...\n",
       "71143    611000    9    42  0.4   105\n",
       "71144    611000   11    40  0.6    82\n",
       "71145    611000   12    39  0.6    99\n",
       "71146    611000   12    40  0.6   100\n",
       "71147    611000    6    33  0.5    90\n",
       "\n",
       "[71148 rows x 5 columns]"
      ]
     },
     "execution_count": 87,
     "metadata": {},
     "output_type": "execute_result"
    }
   ],
   "source": [
    "air_pollution_new1"
   ]
  },
  {
   "cell_type": "code",
   "execution_count": 88,
   "id": "888d241d",
   "metadata": {},
   "outputs": [],
   "source": [
    "air_pollution['PM25C1'] = air_pollution['PM25'].apply(lambda x: 1 if x > 50 else -1)\n",
    "air_pollution_c1=air_pollution['PM25C1']\n",
    "air_pollution['PM25C2'] = air_pollution['PM25'].apply(lambda x: 1 if x > 100 else -1)\n",
    "air_pollution_c2=air_pollution['PM25C2']\n",
    "air_pollution['PM25C3'] = air_pollution['PM25'].apply(lambda x: 1 if x > 150 else -1)\n",
    "air_pollution_c3=air_pollution['PM25C3']\n",
    "air_pollution['PM25C4'] = air_pollution['PM25'].apply(lambda x: 1 if x > 200 else -1)\n",
    "air_pollution_c4=air_pollution['PM25C4']\n",
    "air_pollution['PM25C5'] = air_pollution['PM25'].apply(lambda x: 1 if x > 250 else -1)\n",
    "air_pollution_c5=air_pollution['PM25C5']\n"
   ]
  },
  {
   "cell_type": "code",
   "execution_count": 89,
   "id": "b9b9d2c3",
   "metadata": {},
   "outputs": [],
   "source": [
    "from sklearn.model_selection import train_test_split\n",
    "X1_train, X1_test, y1_train, y1_test = train_test_split(air_pollution_new1, air_pollution['PM25C1'], test_size=0.20, random_state=42)\n",
    "#fpr, tpr, _ = metrics.roc_curve(y_test, y_pred)\n",
    "\n"
   ]
  },
  {
   "cell_type": "code",
   "execution_count": 90,
   "id": "e3047716",
   "metadata": {},
   "outputs": [
    {
     "data": {
      "text/plain": [
       "GradientBoostingClassifier(random_state=0)"
      ]
     },
     "execution_count": 90,
     "metadata": {},
     "output_type": "execute_result"
    }
   ],
   "source": [
    "\n",
    "from sklearn import tree\n",
    "from sklearn.ensemble import GradientBoostingClassifier\n",
    "from sklearn.metrics import mean_absolute_error\n",
    "from sklearn.metrics import mean_squared_error\n",
    "from sklearn.metrics import plot_roc_curve\n",
    "from sklearn.ensemble import BaggingClassifier\n",
    "from sklearn import metrics\n",
    "from sklearn import datasets, metrics, model_selection, svm\n",
    "#RF=RandomForestRegressor(random_state=42, n_estimators=100, max_depth=20) #I need to know what n estimators mean\n",
    "grad1=GradientBoostingClassifier(random_state=0)\n",
    "grad1.fit(X1_train,y1_train)"
   ]
  },
  {
   "cell_type": "code",
   "execution_count": 91,
   "id": "36710b93",
   "metadata": {},
   "outputs": [
    {
     "data": {
      "text/plain": [
       "0.9153900210822207"
      ]
     },
     "execution_count": 91,
     "metadata": {},
     "output_type": "execute_result"
    }
   ],
   "source": [
    "grad1.score(X1_test,y1_test)\n"
   ]
  },
  {
   "cell_type": "code",
   "execution_count": null,
   "id": "3aac538e",
   "metadata": {},
   "outputs": [],
   "source": []
  },
  {
   "cell_type": "code",
   "execution_count": 92,
   "id": "73be477a",
   "metadata": {},
   "outputs": [
    {
     "name": "stdout",
     "output_type": "stream",
     "text": [
      "MAE of Gradient Boosting Tree : 0.1692\n"
     ]
    }
   ],
   "source": [
    "#RF_pred = rf1.predict(X_train)\n",
    "grad1_pred_test = grad1.predict(X1_test)\n",
    "#r3 = mean_absolute_error(y_train, y_pred)\n",
    "MAE_grad1= mean_absolute_error(y1_test, grad1_pred_test)\n",
    "#print(“MAE of Random Forest Regressor on training set: {:.3f}”.format(r3))\n",
    "print(\"MAE of Gradient Boosting Tree : {:.4f}\".format(MAE_grad1))"
   ]
  },
  {
   "cell_type": "code",
   "execution_count": 93,
   "id": "355eb731",
   "metadata": {},
   "outputs": [
    {
     "name": "stdout",
     "output_type": "stream",
     "text": [
      "MSE: 0.33843991567111736\n",
      "RMSE: 0.581755890104361\n"
     ]
    }
   ],
   "source": [
    "import math\n",
    "meanSquaredError_grad1=mean_squared_error(y1_test, grad1_pred_test)\n",
    "print(\"MSE:\", meanSquaredError_grad1)\n",
    "rootMeanSquaredError_grad1 = math.sqrt(meanSquaredError_grad1)\n",
    "print(\"RMSE:\", rootMeanSquaredError_grad1)"
   ]
  },
  {
   "cell_type": "code",
   "execution_count": 94,
   "id": "e97c254a",
   "metadata": {},
   "outputs": [
    {
     "name": "stderr",
     "output_type": "stream",
     "text": [
      "/Users/wkuuser/opt/anaconda3/lib/python3.9/site-packages/sklearn/utils/deprecation.py:87: FutureWarning: Function plot_roc_curve is deprecated; Function :func:`plot_roc_curve` is deprecated in 1.0 and will be removed in 1.2. Use one of the class methods: :meth:`sklearn.metric.RocCurveDisplay.from_predictions` or :meth:`sklearn.metric.RocCurveDisplay.from_estimator`.\n",
      "  warnings.warn(msg, category=FutureWarning)\n"
     ]
    },
    {
     "data": {
      "image/png": "[encoded data removed]",
      "text/plain": [
       "<Figure size 640x480 with 1 Axes>"
      ]
     },
     "metadata": {},
     "output_type": "display_data"
    }
   ],
   "source": [
    "p1=plot_roc_curve(grad1,X1_test, y1_test)"
   ]
  },
  {
   "cell_type": "code",
   "execution_count": 113,
   "id": "e537b30e",
   "metadata": {},
   "outputs": [],
   "source": [
    "from sklearn.model_selection import train_test_split\n",
    "X2_train, X2_test, y2_train, y2_test = train_test_split(air_pollution_new1, air_pollution['PM25C2'], test_size=0.20, random_state=42)\n",
    "\n",
    "\n"
   ]
  },
  {
   "cell_type": "code",
   "execution_count": 114,
   "id": "aa38221f",
   "metadata": {},
   "outputs": [
    {
     "data": {
      "text/plain": [
       "GradientBoostingClassifier(random_state=0)"
      ]
     },
     "execution_count": 114,
     "metadata": {},
     "output_type": "execute_result"
    }
   ],
   "source": [
    "grad2=GradientBoostingClassifier(random_state=0)\n",
    "grad2.fit(X2_train,y2_train)"
   ]
  },
  {
   "cell_type": "code",
   "execution_count": 115,
   "id": "131fa28e",
   "metadata": {},
   "outputs": [
    {
     "data": {
      "text/plain": [
       "0.9942375263527758"
      ]
     },
     "execution_count": 115,
     "metadata": {},
     "output_type": "execute_result"
    }
   ],
   "source": [
    "grad2.score(X2_test,y2_test)"
   ]
  },
  {
   "cell_type": "code",
   "execution_count": 116,
   "id": "7ea0ce6e",
   "metadata": {},
   "outputs": [
    {
     "name": "stderr",
     "output_type": "stream",
     "text": [
      "/Users/wkuuser/opt/anaconda3/lib/python3.9/site-packages/sklearn/utils/deprecation.py:87: FutureWarning: Function plot_roc_curve is deprecated; Function :func:`plot_roc_curve` is deprecated in 1.0 and will be removed in 1.2. Use one of the class methods: :meth:`sklearn.metric.RocCurveDisplay.from_predictions` or :meth:`sklearn.metric.RocCurveDisplay.from_estimator`.\n",
      "  warnings.warn(msg, category=FutureWarning)\n"
     ]
    },
    {
     "data": {
      "image/png": "[encoded data removed]",
      "text/plain": [
       "<Figure size 640x480 with 1 Axes>"
      ]
     },
     "metadata": {},
     "output_type": "display_data"
    }
   ],
   "source": [
    "p2=plot_roc_curve(grad2,X2_test, y2_test)"
   ]
  },
  {
   "cell_type": "code",
   "execution_count": 117,
   "id": "e28a7f3a",
   "metadata": {},
   "outputs": [],
   "source": [
    "from sklearn.model_selection import train_test_split\n",
    "X3_train, X3_test, y3_train, y3_test = train_test_split(air_pollution_new1, air_pollution['PM25C3'], test_size=0.20, random_state=42)\n",
    "\n",
    "\n"
   ]
  },
  {
   "cell_type": "code",
   "execution_count": 118,
   "id": "4033b36a",
   "metadata": {},
   "outputs": [
    {
     "data": {
      "text/plain": [
       "GradientBoostingClassifier(random_state=0)"
      ]
     },
     "execution_count": 118,
     "metadata": {},
     "output_type": "execute_result"
    }
   ],
   "source": [
    "grad3=GradientBoostingClassifier(random_state=0)\n",
    "grad3.fit(X3_train,y3_train)"
   ]
  },
  {
   "cell_type": "code",
   "execution_count": 119,
   "id": "b900b9d5",
   "metadata": {},
   "outputs": [
    {
     "data": {
      "text/plain": [
       "0.9990864371047083"
      ]
     },
     "execution_count": 119,
     "metadata": {},
     "output_type": "execute_result"
    }
   ],
   "source": [
    "grad3.score(X3_test,y3_test)"
   ]
  },
  {
   "cell_type": "code",
   "execution_count": 120,
   "id": "5b2cb328",
   "metadata": {},
   "outputs": [
    {
     "name": "stderr",
     "output_type": "stream",
     "text": [
      "/Users/wkuuser/opt/anaconda3/lib/python3.9/site-packages/sklearn/utils/deprecation.py:87: FutureWarning: Function plot_roc_curve is deprecated; Function :func:`plot_roc_curve` is deprecated in 1.0 and will be removed in 1.2. Use one of the class methods: :meth:`sklearn.metric.RocCurveDisplay.from_predictions` or :meth:`sklearn.metric.RocCurveDisplay.from_estimator`.\n",
      "  warnings.warn(msg, category=FutureWarning)\n"
     ]
    },
    {
     "data": {
      "image/png": "[encoded data removed]",
      "text/plain": [
       "<Figure size 640x480 with 1 Axes>"
      ]
     },
     "metadata": {},
     "output_type": "display_data"
    }
   ],
   "source": [
    "p3=plot_roc_curve(grad3,X3_test, y3_test)"
   ]
  },
  {
   "cell_type": "code",
   "execution_count": 103,
   "id": "09526eaa",
   "metadata": {},
   "outputs": [],
   "source": [
    "from sklearn.model_selection import train_test_split\n",
    "X4_train, X4_test, y4_train, y4_test = train_test_split(air_pollution_new1, air_pollution['PM25C4'], test_size=0.20, random_state=42)\n",
    "\n",
    "\n"
   ]
  },
  {
   "cell_type": "code",
   "execution_count": 104,
   "id": "07ed1a1f",
   "metadata": {},
   "outputs": [
    {
     "data": {
      "text/plain": [
       "GradientBoostingClassifier(random_state=0)"
      ]
     },
     "execution_count": 104,
     "metadata": {},
     "output_type": "execute_result"
    }
   ],
   "source": [
    "grad4=GradientBoostingClassifier(random_state=0)\n",
    "grad4.fit(X4_train,y4_train)"
   ]
  },
  {
   "cell_type": "code",
   "execution_count": 105,
   "id": "dbbcaa77",
   "metadata": {},
   "outputs": [
    {
     "data": {
      "text/plain": [
       "0.9995783555867884"
      ]
     },
     "execution_count": 105,
     "metadata": {},
     "output_type": "execute_result"
    }
   ],
   "source": [
    "grad4.score(X4_test,y4_test)"
   ]
  },
  {
   "cell_type": "code",
   "execution_count": 106,
   "id": "57c69067",
   "metadata": {},
   "outputs": [
    {
     "name": "stderr",
     "output_type": "stream",
     "text": [
      "/Users/wkuuser/opt/anaconda3/lib/python3.9/site-packages/sklearn/utils/deprecation.py:87: FutureWarning: Function plot_roc_curve is deprecated; Function :func:`plot_roc_curve` is deprecated in 1.0 and will be removed in 1.2. Use one of the class methods: :meth:`sklearn.metric.RocCurveDisplay.from_predictions` or :meth:`sklearn.metric.RocCurveDisplay.from_estimator`.\n",
      "  warnings.warn(msg, category=FutureWarning)\n"
     ]
    },
    {
     "data": {
      "image/png": "[encoded data removed]",
      "text/plain": [
       "<Figure size 640x480 with 1 Axes>"
      ]
     },
     "metadata": {},
     "output_type": "display_data"
    }
   ],
   "source": [
    "p4=plot_roc_curve(grad4,X4_test, y4_test)"
   ]
  },
  {
   "cell_type": "code",
   "execution_count": 107,
   "id": "01495289",
   "metadata": {},
   "outputs": [
    {
     "data": {
      "text/html": [
       "<div>\n",
       "<style scoped>\n",
       "    .dataframe tbody tr th:only-of-type {\n",
       "        vertical-align: middle;\n",
       "    }\n",
       "\n",
       "    .dataframe tbody tr th {\n",
       "        vertical-align: top;\n",
       "    }\n",
       "\n",
       "    .dataframe thead th {\n",
       "        text-align: right;\n",
       "    }\n",
       "</style>\n",
       "<table border=\"1\" class=\"dataframe\">\n",
       "  <thead>\n",
       "    <tr style=\"text-align: right;\">\n",
       "      <th></th>\n",
       "      <th>citycode</th>\n",
       "      <th>SO2</th>\n",
       "      <th>PM10</th>\n",
       "      <th>CO</th>\n",
       "      <th>O3_8</th>\n",
       "    </tr>\n",
       "  </thead>\n",
       "  <tbody>\n",
       "    <tr>\n",
       "      <th>27763</th>\n",
       "      <td>330400</td>\n",
       "      <td>3</td>\n",
       "      <td>31</td>\n",
       "      <td>0.6</td>\n",
       "      <td>141</td>\n",
       "    </tr>\n",
       "    <tr>\n",
       "      <th>59551</th>\n",
       "      <td>411000</td>\n",
       "      <td>4</td>\n",
       "      <td>40</td>\n",
       "      <td>1.1</td>\n",
       "      <td>81</td>\n",
       "    </tr>\n",
       "    <tr>\n",
       "      <th>5011</th>\n",
       "      <td>130600</td>\n",
       "      <td>11</td>\n",
       "      <td>70</td>\n",
       "      <td>0.8</td>\n",
       "      <td>212</td>\n",
       "    </tr>\n",
       "    <tr>\n",
       "      <th>41974</th>\n",
       "      <td>341700</td>\n",
       "      <td>20</td>\n",
       "      <td>33</td>\n",
       "      <td>0.4</td>\n",
       "      <td>66</td>\n",
       "    </tr>\n",
       "    <tr>\n",
       "      <th>43731</th>\n",
       "      <td>370100</td>\n",
       "      <td>14</td>\n",
       "      <td>96</td>\n",
       "      <td>0.9</td>\n",
       "      <td>196</td>\n",
       "    </tr>\n",
       "    <tr>\n",
       "      <th>...</th>\n",
       "      <td>...</td>\n",
       "      <td>...</td>\n",
       "      <td>...</td>\n",
       "      <td>...</td>\n",
       "      <td>...</td>\n",
       "    </tr>\n",
       "    <tr>\n",
       "      <th>59316</th>\n",
       "      <td>410900</td>\n",
       "      <td>3</td>\n",
       "      <td>44</td>\n",
       "      <td>0.5</td>\n",
       "      <td>134</td>\n",
       "    </tr>\n",
       "    <tr>\n",
       "      <th>49466</th>\n",
       "      <td>371000</td>\n",
       "      <td>2</td>\n",
       "      <td>38</td>\n",
       "      <td>0.3</td>\n",
       "      <td>94</td>\n",
       "    </tr>\n",
       "    <tr>\n",
       "      <th>28532</th>\n",
       "      <td>330500</td>\n",
       "      <td>11</td>\n",
       "      <td>97</td>\n",
       "      <td>0.8</td>\n",
       "      <td>122</td>\n",
       "    </tr>\n",
       "    <tr>\n",
       "      <th>27193</th>\n",
       "      <td>330300</td>\n",
       "      <td>6</td>\n",
       "      <td>31</td>\n",
       "      <td>0.4</td>\n",
       "      <td>132</td>\n",
       "    </tr>\n",
       "    <tr>\n",
       "      <th>54835</th>\n",
       "      <td>410300</td>\n",
       "      <td>16</td>\n",
       "      <td>90</td>\n",
       "      <td>1.2</td>\n",
       "      <td>126</td>\n",
       "    </tr>\n",
       "  </tbody>\n",
       "</table>\n",
       "<p>14230 rows × 5 columns</p>\n",
       "</div>"
      ],
      "text/plain": [
       "       citycode  SO2  PM10   CO  O3_8\n",
       "27763    330400    3    31  0.6   141\n",
       "59551    411000    4    40  1.1    81\n",
       "5011     130600   11    70  0.8   212\n",
       "41974    341700   20    33  0.4    66\n",
       "43731    370100   14    96  0.9   196\n",
       "...         ...  ...   ...  ...   ...\n",
       "59316    410900    3    44  0.5   134\n",
       "49466    371000    2    38  0.3    94\n",
       "28532    330500   11    97  0.8   122\n",
       "27193    330300    6    31  0.4   132\n",
       "54835    410300   16    90  1.2   126\n",
       "\n",
       "[14230 rows x 5 columns]"
      ]
     },
     "execution_count": 107,
     "metadata": {},
     "output_type": "execute_result"
    }
   ],
   "source": [
    "X4_test"
   ]
  },
  {
   "cell_type": "code",
   "execution_count": 108,
   "id": "ccc493bf",
   "metadata": {},
   "outputs": [],
   "source": [
    "from sklearn.model_selection import train_test_split\n",
    "X5_train, X5_test, y5_train, y5_test = train_test_split(air_pollution_new1, air_pollution['PM25C5'], test_size=0.20, random_state=42)\n",
    "\n",
    "\n"
   ]
  },
  {
   "cell_type": "code",
   "execution_count": 109,
   "id": "42cee438",
   "metadata": {},
   "outputs": [
    {
     "data": {
      "text/plain": [
       "GradientBoostingClassifier(random_state=0)"
      ]
     },
     "execution_count": 109,
     "metadata": {},
     "output_type": "execute_result"
    }
   ],
   "source": [
    "grad5=GradientBoostingClassifier(random_state=0)\n",
    "grad5.fit(X5_train,y5_train)"
   ]
  },
  {
   "cell_type": "code",
   "execution_count": 110,
   "id": "e26f6e43",
   "metadata": {},
   "outputs": [
    {
     "data": {
      "text/plain": [
       "0.9997891777933943"
      ]
     },
     "execution_count": 110,
     "metadata": {},
     "output_type": "execute_result"
    }
   ],
   "source": [
    "grad5.score(X5_test,y5_test)"
   ]
  },
  {
   "cell_type": "code",
   "execution_count": 111,
   "id": "06e9330c",
   "metadata": {},
   "outputs": [
    {
     "name": "stderr",
     "output_type": "stream",
     "text": [
      "/Users/wkuuser/opt/anaconda3/lib/python3.9/site-packages/sklearn/utils/deprecation.py:87: FutureWarning: Function plot_roc_curve is deprecated; Function :func:`plot_roc_curve` is deprecated in 1.0 and will be removed in 1.2. Use one of the class methods: :meth:`sklearn.metric.RocCurveDisplay.from_predictions` or :meth:`sklearn.metric.RocCurveDisplay.from_estimator`.\n",
      "  warnings.warn(msg, category=FutureWarning)\n"
     ]
    },
    {
     "data": {
      "image/png": "[encoded data removed]",
      "text/plain": [
       "<Figure size 640x480 with 1 Axes>"
      ]
     },
     "metadata": {},
     "output_type": "display_data"
    }
   ],
   "source": [
    "p5=plot_roc_curve(grad5,X5_test, y5_test)"
   ]
  },
  {
   "cell_type": "code",
   "execution_count": 112,
   "id": "895d37f0",
   "metadata": {},
   "outputs": [
    {
     "name": "stderr",
     "output_type": "stream",
     "text": [
      "/Users/wkuuser/opt/anaconda3/lib/python3.9/site-packages/sklearn/utils/deprecation.py:87: FutureWarning: Function plot_roc_curve is deprecated; Function :func:`plot_roc_curve` is deprecated in 1.0 and will be removed in 1.2. Use one of the class methods: :meth:`sklearn.metric.RocCurveDisplay.from_predictions` or :meth:`sklearn.metric.RocCurveDisplay.from_estimator`.\n",
      "  warnings.warn(msg, category=FutureWarning)\n",
      "/Users/wkuuser/opt/anaconda3/lib/python3.9/site-packages/sklearn/utils/deprecation.py:87: FutureWarning: Function plot_roc_curve is deprecated; Function :func:`plot_roc_curve` is deprecated in 1.0 and will be removed in 1.2. Use one of the class methods: :meth:`sklearn.metric.RocCurveDisplay.from_predictions` or :meth:`sklearn.metric.RocCurveDisplay.from_estimator`.\n",
      "  warnings.warn(msg, category=FutureWarning)\n",
      "/Users/wkuuser/opt/anaconda3/lib/python3.9/site-packages/sklearn/utils/deprecation.py:87: FutureWarning: Function plot_roc_curve is deprecated; Function :func:`plot_roc_curve` is deprecated in 1.0 and will be removed in 1.2. Use one of the class methods: :meth:`sklearn.metric.RocCurveDisplay.from_predictions` or :meth:`sklearn.metric.RocCurveDisplay.from_estimator`.\n",
      "  warnings.warn(msg, category=FutureWarning)\n",
      "/Users/wkuuser/opt/anaconda3/lib/python3.9/site-packages/sklearn/utils/deprecation.py:87: FutureWarning: Function plot_roc_curve is deprecated; Function :func:`plot_roc_curve` is deprecated in 1.0 and will be removed in 1.2. Use one of the class methods: :meth:`sklearn.metric.RocCurveDisplay.from_predictions` or :meth:`sklearn.metric.RocCurveDisplay.from_estimator`.\n",
      "  warnings.warn(msg, category=FutureWarning)\n",
      "/Users/wkuuser/opt/anaconda3/lib/python3.9/site-packages/sklearn/utils/deprecation.py:87: FutureWarning: Function plot_roc_curve is deprecated; Function :func:`plot_roc_curve` is deprecated in 1.0 and will be removed in 1.2. Use one of the class methods: :meth:`sklearn.metric.RocCurveDisplay.from_predictions` or :meth:`sklearn.metric.RocCurveDisplay.from_estimator`.\n",
      "  warnings.warn(msg, category=FutureWarning)\n"
     ]
    },
    {
     "data": {
      "image/png": "[encoded data removed]",
      "text/plain": [
       "<Figure size 640x480 with 1 Axes>"
      ]
     },
     "metadata": {},
     "output_type": "display_data"
    }
   ],
   "source": [
    "disp=plot_roc_curve(grad1,X1_test, y1_test)\n",
    "plot_roc_curve(grad2,X2_test, y2_test,ax=disp.ax_);\n",
    "plot_roc_curve(grad3,X3_test, y3_test,ax=disp.ax_);\n",
    "plot_roc_curve(grad4,X4_test, y4_test,ax=disp.ax_);\n",
    "plot_roc_curve(grad5,X5_test, y5_test,ax=disp.ax_); "
   ]
  }
 ],
 "metadata": {
  "kernelspec": {
   "display_name": "Python 3 (ipykernel)",
   "language": "python",
   "name": "python3"
  },
  "language_info": {
   "codemirror_mode": {
    "name": "ipython",
    "version": 3
   },
   "file_extension": ".py",
   "mimetype": "text/x-python",
   "name": "python",
   "nbconvert_exporter": "python",
   "pygments_lexer": "ipython3",
   "version": "3.9.13"
  }
 },
 "nbformat": 4,
 "nbformat_minor": 5
}
